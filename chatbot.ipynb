{
 "cells": [
  {
   "cell_type": "code",
   "execution_count": 13,
   "id": "43271da9",
   "metadata": {},
   "outputs": [],
   "source": [
    "import json\n",
    "import nltk\n",
    "import numpy as np\n",
    "from sklearn.feature_extraction.text import TfidfVectorizer\n",
    "from sklearn.metrics.pairwise import cosine_similarity\n",
    "\n",
    "\n",
    "# Download necessary NLTK data\n",
    "#nltk.download('punkt')\n",
    "#nltk.download('stopwords')\n",
    "\n",
    " "
   ]
  },
  {
   "cell_type": "code",
   "execution_count": 14,
   "id": "961ca60e",
   "metadata": {},
   "outputs": [],
   "source": [
    "with open('data.json') as json_file:\n",
    "    conversations = json.load(json_file)"
   ]
  },
  {
   "cell_type": "code",
   "execution_count": 15,
   "id": "45750234",
   "metadata": {},
   "outputs": [],
   "source": [
    "# Define a function to preprocess the text\n",
    "def preprocess_text(text):\n",
    "    # Set of stop words in English language\n",
    "    stop_words = set(nltk.corpus.stopwords.words('english'))\n",
    "\n",
    "    # Tokenize the text and convert to lowercase\n",
    "    words = nltk.word_tokenize(text.lower())\n",
    "\n",
    "    # Filter out non-alphanumeric words and stop words\n",
    "    words = [word for word in words if word.isalnum() and word not in stop_words]\n",
    "\n",
    "    # Join the filtered words back into a string\n",
    "    return ' '.join(words)"
   ]
  },
  {
   "cell_type": "code",
   "execution_count": 16,
   "id": "69860ca0",
   "metadata": {},
   "outputs": [],
   "source": [
    "# Preprocess the training data\n",
    "preprocessed_inputs = [preprocess_text(conversation['input']) for conversation in conversations['conversations']]\n",
    "#print(preprocessed_inputs)\n",
    "responses = [conversation['response'] for conversation in conversations['conversations']]\n",
    "\n",
    "# Create a TF-IDF vectorizer and transform the preprocessed inputs\n",
    "vectorizer = TfidfVectorizer()\n",
    "tfidf_matrix = vectorizer.fit_transform(preprocessed_inputs)"
   ]
  },
  {
   "cell_type": "code",
   "execution_count": 17,
   "id": "c9275e75",
   "metadata": {},
   "outputs": [
    {
     "name": "stdout",
     "output_type": "stream",
     "text": [
      "Hello!\n",
      "You can call me ChatBot.\n",
      "The capital of France is Paris.\n"
     ]
    }
   ],
   "source": [
    "# Define a function to classify user input using cosine similarity\n",
    "def classify_text(text):\n",
    "    preprocessed_input = preprocess_text(text)\n",
    "    input_vector = vectorizer.transform([preprocessed_input])\n",
    "    similarity_scores = cosine_similarity(input_vector, tfidf_matrix)\n",
    "    max_index = np.argmax(similarity_scores)\n",
    "    if max(similarity_scores.tolist()[0])==0.0:\n",
    "        return \"\"\n",
    "    return responses[max_index]\n",
    "\n",
    "#Test the classifier with some example inputs\n",
    "print(classify_text(\"Hi!\"))\n",
    "print(classify_text(\"what is your name?\"))\n",
    "print(classify_text(\"What's the capital of France?\"))\n"
   ]
  },
  {
   "cell_type": "code",
   "execution_count": 19,
   "id": "fc25f5af",
   "metadata": {},
   "outputs": [
    {
     "name": "stdout",
     "output_type": "stream",
     "text": [
      "Bot: Hello, I'm Chatbot. How can I help you today?\n",
      "you : hi\n",
      "Bot: Hello!\n",
      "you : what is your name?\n",
      "Bot: You can call me ChatBot.\n",
      "you : i want to know your name\n",
      "Bot: You can call me ChatBot.\n",
      "you : kk\n",
      "Bot: I'm sorry, I didn't catch that Please try to write something more clear.\n",
      "you : how old are you\n",
      "Bot: I am an AI language model, so I don't have an age.\n",
      "you : what is the capital of france\n",
      "Bot: The capital of France is Paris.\n",
      "you : bye\n",
      "Bot: see you later !\n"
     ]
    }
   ],
   "source": [
    "exit_list=['exit', 'see you later','bye','quit','stop']\n",
    "\n",
    "print(\"Bot: Hello, I'm Chatbot. How can I help you today?\")\n",
    "\n",
    "while True:\n",
    "    user_message = input(\"you: \")\n",
    "    print(\"you : \"+user_message)\n",
    "\n",
    "    if user_message.lower() in exit_list:\n",
    "        print('Bot: see you later !')\n",
    "        break\n",
    "\n",
    "    res=classify_text(user_message) \n",
    "\n",
    "    if res==\"\":\n",
    "        print(\"Bot: I'm sorry, I didn't catch that Please try to write something more clear.\")\n",
    "        continue\n",
    "\n",
    "    print(f\"Bot: {res}\")"
   ]
  }
 ],
 "metadata": {
  "kernelspec": {
   "display_name": "Python 3",
   "language": "python",
   "name": "python3"
  },
  "language_info": {
   "codemirror_mode": {
    "name": "ipython",
    "version": 3
   },
   "file_extension": ".py",
   "mimetype": "text/x-python",
   "name": "python",
   "nbconvert_exporter": "python",
   "pygments_lexer": "ipython3",
   "version": "3.8.8"
  }
 },
 "nbformat": 4,
 "nbformat_minor": 5
}
